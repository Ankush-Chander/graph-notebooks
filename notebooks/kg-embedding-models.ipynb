{
 "cells": [
  {
   "cell_type": "code",
   "execution_count": 1,
   "metadata": {},
   "outputs": [],
   "source": [
    "import os\n"
   ]
  },
  {
   "cell_type": "code",
   "execution_count": 2,
   "metadata": {},
   "outputs": [],
   "source": [
    "# if you are running a kaggle notebook\n",
    "DATA_DIR = \"/kaggle/input\"\n",
    "OUTPUT_DIR = \"/kaggle/output\""
   ]
  },
  {
   "cell_type": "code",
   "execution_count": 3,
   "metadata": {},
   "outputs": [],
   "source": [
    "# if you are running it on local machine\n",
    "# download input files\n",
    "# create directory kaggle/input\n",
    "os.makedirs(\"input/kg_embeddings\", exist_ok=True)\n",
    "os.makedirs(\"output/kg_embeddings\", exist_ok=True)\n",
    "# # download files from kaggle\n",
    "#! kaggle datasets download -d latebloomer/fb15k-237\n",
    "#!unzip -d input/kg_embeddings fb15k-237.zip\n",
    "DATA_DIR = \"input/kg_embeddings\"\n",
    "OUTPUT_DIR = \"output/kg_embeddings\""
   ]
  },
  {
   "cell_type": "code",
   "execution_count": 4,
   "metadata": {
    "_cell_guid": "b1076dfc-b9ad-4769-8c92-a6c4dae69d19",
    "_uuid": "8f2839f25d086af736a60e9eeb907d3b93b6e0e5"
   },
   "outputs": [
    {
     "name": "stdout",
     "output_type": "stream",
     "text": [
      "input/kg_embeddings/valid.txt\n",
      "input/kg_embeddings/test.txt\n",
      "input/kg_embeddings/train.txt\n"
     ]
    }
   ],
   "source": [
    "# This Python 3 environment comes with many helpful analytics libraries installed\n",
    "# It is defined by the kaggle/python Docker image: https://github.com/kaggle/docker-python\n",
    "# For example, here's several helpful packages to load\n",
    "\n",
    "import numpy as np  # linear algebra\n",
    "import pandas as pd  # data processing, CSV file I/O (e.g. pd.read_csv)\n",
    "\n",
    "# Input data files are available in the read-only \"../input/\" directory\n",
    "# For example, running this (by clicking run or pressing Shift+Enter) will list all files under the input directory\n",
    "\n",
    "import os\n",
    "\n",
    "for dirname, _, filenames in os.walk(DATA_DIR):\n",
    "    for filename in filenames:\n",
    "        print(os.path.join(dirname, filename))\n",
    "\n",
    "# You can write up to 20GB to the current directory (/kaggle/working/) that gets preserved as output when you create a version using \"Save & Run All\" \n",
    "# You can also write temporary files to /kaggle/temp/, but they won't be saved outside of the current session"
   ]
  },
  {
   "cell_type": "code",
   "execution_count": 5,
   "metadata": {},
   "outputs": [],
   "source": [
    "# data exploration\n",
    "import pandas as pd\n",
    "\n",
    "train_df = pd.read_csv(f\"{DATA_DIR}/train.txt\", delimiter=\"\\t\", names=[\"head\", \"relation\", \"tail\"])\n",
    "test_df = pd.read_csv(f\"{DATA_DIR}/test.txt\", delimiter=\"\\t\", names=[\"head\", \"relation\", \"tail\"])\n",
    "val_df = pd.read_csv(f\"{DATA_DIR}/valid.txt\", delimiter=\"\\t\", names=[\"head\", \"relation\", \"tail\"])\n"
   ]
  },
  {
   "cell_type": "code",
   "execution_count": 6,
   "metadata": {},
   "outputs": [
    {
     "name": "stdout",
     "output_type": "stream",
     "text": [
      "len(entities): 14541\n",
      "len(relation): 237\n"
     ]
    }
   ],
   "source": [
    "# generate vocabulary\n",
    "entities = pd.concat(\n",
    "    [train_df[\"head\"], test_df[\"head\"], val_df[\"head\"], train_df[\"tail\"], test_df[\"tail\"], val_df[\"tail\"]], axis=0)\n",
    "entities = sorted(list(set(entities)))\n",
    "print(f\"len(entities): {len(entities)}\")\n",
    "relations = pd.concat([train_df[\"relation\"], test_df[\"relation\"], val_df[\"relation\"]])\n",
    "relations = sorted(list(set(relations)))\n",
    "\n",
    "print(f\"len(relation): {len(relations)}\")\n",
    "\n",
    "id2word = entities + relations\n",
    "word2id = {word: i for i, word in enumerate(id2word)}"
   ]
  },
  {
   "cell_type": "code",
   "execution_count": null,
   "metadata": {
    "ExecuteTime": {
     "end_time": "2024-02-26T00:51:53.230360862Z",
     "start_time": "2024-02-26T00:51:53.093916966Z"
    }
   },
   "outputs": [
    {
     "data": {
      "application/vnd.jupyter.widget-view+json": {
       "model_id": "4e6d0590092f493c81cb73e006f7b5f5",
       "version_major": 2,
       "version_minor": 0
      },
      "text/plain": [
       "  0%|          | 0/272115 [00:00<?, ?it/s]"
      ]
     },
     "metadata": {},
     "output_type": "display_data"
    }
   ],
   "source": [
    "# initalize embedding layer\n",
    "import torch\n",
    "import torch.nn as nn\n",
    "import torch.nn.functional as F\n",
    "import numpy as np\n",
    "from sklearn.utils import shuffle\n",
    "from tqdm.auto import tqdm\n",
    "\n",
    "def relation_data_loader(df):\n",
    "    df = shuffle(df)\n",
    "    for i, row in df.iterrows():\n",
    "        positive_example = [word2id[item] for item in row]\n",
    "        # randomly sample negative example by replacing head or tail with random entity\n",
    "        #   with probability 0.5\n",
    "        if np.random.rand() > 0.5:\n",
    "            negative_example = [word2id[item] for item in row]\n",
    "            negative_example[0] = word2id[np.random.choice(entities)]\n",
    "        else:\n",
    "            negative_example = [word2id[item] for item in row]\n",
    "            negative_example[2] = word2id[np.random.choice(entities)]\n",
    "        yield positive_example, negative_example\n",
    "\n",
    "\n",
    "def distance_function(t1, t2):\n",
    "    # implement L1 norm as distance function\n",
    "    return torch.sum(torch.abs(t1 - t2), dim=-1)\n",
    "\n",
    "\n",
    "# validation code\n",
    "def test_accuracy(val_df):\n",
    "    total = val_df.shape[0]\n",
    "    correct = 0\n",
    "    for i, (positive_sample, *_) in tqdm(enumerate(relation_data_loader(val_df)),total=val_df.shape[0]):\n",
    "        head, relation, actual_entity = positive_sample\n",
    "        entity_relation_vector = embed_layer(torch.LongTensor([head, relation]))\n",
    "        # print(entity_relation_vector.shape)\n",
    "        pred_vector = entity_relation_vector[0] + entity_relation_vector[1] \n",
    "        # print(pred_vector.shape)\n",
    "        closest_entity = torch.argmin(distance_function(pred_vector, embed_layer.weight.data), dim=-1)\n",
    "        # print(f\"closest_entity: {closest_entity}\")\n",
    "        if closest_entity == actual_entity:\n",
    "            correct += 1\n",
    "    return correct/total\n",
    "\n",
    "\n",
    "\n",
    "# hyper parameters\n",
    "# k = 50, λ = 0.01, γ = 1, and d = L1 on FB15k;\n",
    "embedding_dim = 50\n",
    "lr =  0.01\n",
    "gamma = 1\n",
    "epoch = 1000\n",
    "\n",
    "\n",
    "# define layer\n",
    "embed_layer = nn.Embedding(len(id2word), embedding_dim)\n",
    "# input = torch.LongTensor([[0, 2, 0, 5]])\n",
    "# embed_layer(input)\n",
    "\n",
    "\n",
    "\n",
    "\n",
    "for e in range(epoch):\n",
    "    for i, (positive_sample, negative_sample)  in tqdm(enumerate(relation_data_loader(train_df)), total=train_df.shape[0]):\n",
    "        positive_sample = torch.LongTensor(positive_sample)\n",
    "        negative_sample = torch.LongTensor(negative_sample)\n",
    "        positive_input = embed_layer(positive_sample)\n",
    "        negative_input = embed_layer(negative_sample)\n",
    "        # calculate distance\n",
    "        positive_distance = distance_function(positive_input[0] + positive_input[1], positive_input[2])\n",
    "        negative_distance = distance_function(negative_input[0] + negative_input[1], negative_input[2])\n",
    "        # calculate loss\n",
    "        loss = gamma + positive_distance - negative_distance\n",
    "        # backpropagation\n",
    "        loss.backward()\n",
    "        # update weights\n",
    "        embed_layer.weight.data -= lr * embed_layer.weight.grad.data\n",
    "    # if e%10==0:\n",
    "    accuracy = test_accuracy(val_df)\n",
    "    print(f\"accuracy @epoch{e}: {accuracy}\")\n",
    "\n"
   ]
  },
  {
   "cell_type": "code",
   "execution_count": 68,
   "metadata": {},
   "outputs": [
    {
     "data": {
      "application/vnd.jupyter.widget-view+json": {
       "model_id": "23b8776ec1334bc9898edf3726e1ff95",
       "version_major": 2,
       "version_minor": 0
      },
      "text/plain": [
       "  0%|          | 0/20466 [00:00<?, ?it/s]"
      ]
     },
     "metadata": {},
     "output_type": "display_data"
    },
    {
     "name": "stdout",
     "output_type": "stream",
     "text": [
      "Accuracy: 0.02897488517541288\n"
     ]
    }
   ],
   "source": []
  },
  {
   "cell_type": "markdown",
   "metadata": {},
   "source": [
    "# Embedding models"
   ]
  },
  {
   "cell_type": "markdown",
   "metadata": {},
   "source": [
    "## TransE"
   ]
  },
  {
   "cell_type": "code",
   "execution_count": null,
   "metadata": {},
   "outputs": [],
   "source": []
  },
  {
   "cell_type": "markdown",
   "metadata": {},
   "source": [
    "### Implementation"
   ]
  },
  {
   "cell_type": "code",
   "execution_count": null,
   "metadata": {},
   "outputs": [],
   "source": [
    "from torch import nn\n",
    "\n",
    "\n",
    "# sample database\n",
    "# forward \n",
    "# loss \n",
    "# backward propagation\n",
    "# minibatch \n",
    "# \n",
    "\n"
   ]
  },
  {
   "cell_type": "markdown",
   "metadata": {},
   "source": [
    "### References\n",
    "1. [Translating Embeddings for Modeling\n",
    "Multi-relational Data(Paper)](https://papers.nips.cc/paper/2013/file/1cecc7a77928ca8133fa24680a88d2f9-Paper.pdf)"
   ]
  }
 ],
 "metadata": {
  "kaggle": {
   "accelerator": "none",
   "dataSources": [
    {
     "datasetId": 4488713,
     "sourceId": 7691439,
     "sourceType": "datasetVersion"
    }
   ],
   "dockerImageVersionId": 30646,
   "isGpuEnabled": false,
   "isInternetEnabled": true,
   "language": "python",
   "sourceType": "notebook"
  },
  "kernelspec": {
   "display_name": "Python 3 (ipykernel)",
   "language": "python",
   "name": "python3"
  },
  "language_info": {
   "codemirror_mode": {
    "name": "ipython",
    "version": 3
   },
   "file_extension": ".py",
   "mimetype": "text/x-python",
   "name": "python",
   "nbconvert_exporter": "python",
   "pygments_lexer": "ipython3",
   "version": "3.10.12"
  }
 },
 "nbformat": 4,
 "nbformat_minor": 4
}
