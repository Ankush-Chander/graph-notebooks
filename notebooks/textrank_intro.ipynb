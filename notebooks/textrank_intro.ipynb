{
 "cells": [
  {
   "cell_type": "markdown",
   "id": "cb491d2d-4325-41b9-b282-c1faaf7b140f",
   "metadata": {},
   "source": [
    "# Purpose\n",
    "1. Understand textrank: an application of pagerank algorithm on text\n",
    "\n",
    "<table align=\"left\">\n",
    "  <td>\n",
    "    <a href=\"https://colab.research.google.com/github/Ankush-Chander/graph-notebooks/blob/main/notebooks/textrank_intro.ipynb\" target=\"_parent\"><img src=\"https://colab.research.google.com/assets/colab-badge.svg\" alt=\"Open In Colab\"/></a>\n",
    "  </td>\n",
    "  <td>\n",
    "    <a target=\"_blank\" href=\"https://www.kaggle.com/code/latebloomer/pagerank-in-nlp\"><img src=\"https://kaggle.com/static/images/open-in-kaggle.svg\" /></a>\n",
    "  </td>\n",
    "</table>"
   ]
  },
  {
   "cell_type": "markdown",
   "id": "d0110fd8-6472-4b49-bfb9-b195df35707f",
   "metadata": {},
   "source": [
    "# spaCy\n",
    "spaCy is a library for **advanced Natural Language Processing in Python and Cython**. It's built on the very latest research, and was designed from day one to be used in real products.\n",
    "\n",
    "spaCy comes with **pretrained pipelines and currently supports tokenization and training for 70+ languages**. It features state-of-the-art speed and neural network models for **tagging, parsing, named entity recognition, text classification** and more, multi-task learning with pretrained transformers like BERT, as well as a production-ready training system and easy model packaging, deployment and workflow management. spaCy is commercial open-source software, released under the MIT license."
   ]
  },
  {
   "cell_type": "markdown",
   "id": "a9ae9d83-49cc-41d5-9567-4d23b050cbc8",
   "metadata": {},
   "source": [
    "## installation"
   ]
  },
  {
   "cell_type": "code",
   "execution_count": 1,
   "id": "423ab5cb-ba0a-4f6d-9c12-6853b3170d69",
   "metadata": {},
   "outputs": [],
   "source": [
    "# ! pip install spacy\n",
    "# ! python -m spacy download en_core_web_sm"
   ]
  },
  {
   "cell_type": "markdown",
   "id": "d6c3788e-8aa8-4a06-bf46-a0d7c349d07a",
   "metadata": {},
   "source": [
    "## Usage"
   ]
  },
  {
   "cell_type": "code",
   "execution_count": 18,
   "id": "262a72f5-4f96-49fa-b925-e1d85c2eea45",
   "metadata": {},
   "outputs": [],
   "source": [
    "import networkx as nx\n",
    "import matplotlib.pyplot as plt\n",
    "import spacy\n",
    "from icecream import ic \n",
    "nlp = spacy.load(\"en_core_web_sm\")\n",
    "\n",
    "\n",
    "text = \"Compatibility of systems of linear constraints over the set of natural numbers. Criteria of compatibility of a system of linear Diophantine equations, strict inequations, and nonstrict inequations are considered. Upper bounds for components of a minimal set of solutions and algorithms of construction of minimal generating sets of solutions for all types of systems are given. These criteria and the corresponding algorithms for constructing a minimal supporting set of solutions can be used in solving all the considered types systems and systems of mixed types.\"\n",
    "doc = nlp(text)"
   ]
  },
  {
   "cell_type": "markdown",
   "id": "71dd1c57-af5e-4b9f-ad51-df907a703060",
   "metadata": {},
   "source": [
    "| Feature | Description |\n",
    "| --- | --- |\n",
    "| Linguistic annotations | Insights into a text's grammatical structure, including word types and how the words are related to each other. |\n",
    "| Sentence boundary detection | Finding and segmenting individual sentences. |\n",
    "| Tokenization | The process of segmenting text into words, punctuation, and so on. |\n",
    "| Part-of-speech tags and dependencies | spaCy can parse and tag a given Doc, making predictions of which tag or label most likely applies in this context. |\n",
    "| Named Entities | spaCy can recognize various types of named entities in a document, such as person, country, product, or book title. |\n",
    "| Word vectors and similarity | Similarity is determined by comparing word vectors or \"word embeddings\", multi-dimensional meaning representations of a word. |"
   ]
  },
  {
   "cell_type": "code",
   "execution_count": 19,
   "id": "1dc18d50-8369-41bc-83b7-79af5a3731dd",
   "metadata": {},
   "outputs": [
    {
     "name": "stderr",
     "output_type": "stream",
     "text": [
      "ic| sent.start: 0\n",
      "    sent.end: 13\n",
      "    sent.text: ('Compatibility of systems of linear constraints over the set of natural '\n",
      "                'numbers.')\n",
      "ic| sent.start: 13\n",
      "    sent.end: 33\n",
      "    sent.text: ('Criteria of compatibility of a system of linear Diophantine equations, '\n",
      "                'strict inequations, and nonstrict inequations are considered.')\n",
      "ic| sent.start: 33\n",
      "    sent.end: 61\n",
      "    sent.text: ('Upper bounds for components of a minimal set of solutions and algorithms of '\n",
      "                'construction of minimal generating sets of solutions for all types of '\n",
      "                'systems are given.')\n",
      "ic| sent.start: 61\n",
      "    sent.end: 91\n",
      "    sent.text: ('These criteria and the corresponding algorithms for constructing a minimal '\n",
      "                'supporting set of solutions can be used in solving all the considered types '\n",
      "                'systems and systems of mixed types.')\n"
     ]
    }
   ],
   "source": [
    "for sent in doc.sents:\n",
    "    ic(sent.start, sent.end, sent.text)"
   ]
  },
  {
   "cell_type": "code",
   "execution_count": 20,
   "id": "18ce4d29019e4eed",
   "metadata": {
    "collapsed": false,
    "jupyter": {
     "outputs_hidden": false
    }
   },
   "outputs": [
    {
     "name": "stderr",
     "output_type": "stream",
     "text": [
      "ic| token.idx: 0\n",
      "    token.text: 'Compatibility'\n",
      "    token.lemma_: 'compatibility'\n",
      "    token.pos_: 'NOUN'\n",
      "    token.tag_: 'NN'\n",
      "    token.is_alpha: True\n",
      "    token.is_stop: False\n",
      "ic| token.idx: 14\n",
      "    token.text: 'of'\n",
      "    token.lemma_: 'of'\n",
      "    token.pos_: 'ADP'\n",
      "    token.tag_: 'IN'\n",
      "    token.is_alpha: True\n",
      "    token.is_stop: True\n",
      "ic| token.idx: 17\n",
      "    token.text: 'systems'\n",
      "    token.lemma_: 'system'\n",
      "    token.pos_: 'NOUN'\n",
      "    token.tag_: 'NNS'\n",
      "    token.is_alpha: True\n",
      "    token.is_stop: False\n",
      "ic| token.idx: 25\n",
      "    token.text: 'of'\n",
      "    token.lemma_: 'of'\n",
      "    token.pos_: 'ADP'\n",
      "    token.tag_: 'IN'\n",
      "    token.is_alpha: True\n",
      "    token.is_stop: True\n",
      "ic| token.idx: 28\n",
      "    token.text: 'linear'\n",
      "    token.lemma_: 'linear'\n",
      "    token.pos_: 'ADJ'\n",
      "    token.tag_: 'JJ'\n",
      "    token.is_alpha: True\n",
      "    token.is_stop: False\n"
     ]
    }
   ],
   "source": [
    "# tokenization and linguistic properties\n",
    "for token in doc[:5]:\n",
    "    ic(token.idx, token.text, token.lemma_,  token.pos_, token.tag_, token.is_alpha, token.is_stop)"
   ]
  },
  {
   "cell_type": "code",
   "execution_count": 5,
   "id": "fea8a11f-a774-4625-98b8-8b61c6993b7a",
   "metadata": {},
   "outputs": [
    {
     "name": "stderr",
     "output_type": "stream",
     "text": [
      "ic| nc.start: 0, nc.end: 1, nc.text: 'Compatibility'\n",
      "ic| nc.start: 2, nc.end: 3, nc.text: 'systems'\n",
      "ic| nc.start: 4, nc.end: 6, nc.text: 'linear constraints'\n",
      "ic| nc.start: 7, nc.end: 9, nc.text: 'the set'\n",
      "ic| nc.start: 10, nc.end: 12, nc.text: 'natural numbers'\n",
      "ic| nc.start: 13, nc.end: 14, nc.text: 'Criteria'\n",
      "ic| nc.start: 15, nc.end: 16, nc.text: 'compatibility'\n",
      "ic| nc.start: 17, nc.end: 19, nc.text: 'a system'\n",
      "ic| nc.start: 20, nc.end: 23, nc.text: 'linear Diophantine equations'\n",
      "ic| nc.start: 24, nc.end: 26, nc.text: 'strict inequations'\n",
      "ic| nc.start: 28, nc.end: 30, nc.text: 'nonstrict inequations'\n",
      "ic| nc.start: 36, nc.end: 37, nc.text: 'components'\n",
      "ic| nc.start: 38, nc.end: 41, nc.text: 'a minimal set'\n",
      "ic| nc.start: 42, nc.end: 43, nc.text: 'solutions'\n",
      "ic| nc.start: 44, nc.end: 45, nc.text: 'algorithms'\n",
      "ic| nc.start: 46, nc.end: 47, nc.text: 'construction'\n",
      "ic| nc.start: 48, nc.end: 51, nc.text: 'minimal generating sets'\n",
      "ic| nc.start: 52, nc.end: 53, nc.text: 'solutions'\n",
      "ic| nc.start: 54, nc.end: 56, nc.text: 'all types'\n",
      "ic| nc.start: 57, nc.end: 58, nc.text: 'systems'\n",
      "ic| nc.start: 61, nc.end: 63, nc.text: 'These criteria'\n",
      "ic| nc.start: 64, nc.end: 67, nc.text: 'the corresponding algorithms'\n",
      "ic| nc.start: 69, nc.end: 73, nc.text: 'a minimal supporting set'\n",
      "ic| nc.start: 74, nc.end: 75, nc.text: 'solutions'\n",
      "ic| nc.start: 80\n",
      "    nc.end: 85\n",
      "    nc.text: 'all the considered types systems'\n",
      "ic| nc.start: 86, nc.end: 87, nc.text: 'systems'\n",
      "ic| nc.start: 88, nc.end: 90, nc.text: 'mixed types'\n"
     ]
    }
   ],
   "source": [
    "# noun phrase detection\n",
    "for nc in doc.noun_chunks:\n",
    "    ic(nc.start, nc.end, nc.text)"
   ]
  },
  {
   "cell_type": "markdown",
   "id": "ac8d49b5-555e-4caf-be67-978639d6a864",
   "metadata": {},
   "source": [
    "# Textrank algorithm\n",
    "TextRank is a graph based unsupervised technique for keyphrase extraction and extractive summarization.  \n",
    "To enable the application of graph-based ranking algorithms to natural language texts, we have to\n",
    "build a graph that represents the text, and interconnects words or other text entities with meaningful relations.  \n",
    "\n",
    "Reference: [Mihalcea, Rada, and Paul Tarau. \"Textrank: Bringing order into text.\" Proceedings of the 2004 conference on empirical methods in natural language processing. 2004.](https://aclanthology.org/W04-3252.pdf)"
   ]
  },
  {
   "cell_type": "markdown",
   "id": "e13e99d9-74d7-4f43-a7c1-74209f08ea72",
   "metadata": {},
   "source": [
    "## Create a textgraph\n",
    "1. **Identify text units that best define the task at hand, and add them as vertices in the graph.**  \n",
    "   In our case we will consider (lemma, pos_) as nodes. For eg: `('compatibility', 'NOUN')` will be our node.\n",
    "2. **Identify relations that connect such text units, and use these relations to draw edges between vertices in the graph. Edges can be directed or undirected, weighted or unweighted.**  \n",
    "We will consider two nodes to be connected if they lie in a window of 3 within the same sentence\n",
    "3. **Iterate the graph-based ranking algorithm until convergence.**   \n",
    "   We use `nx.pagerank` to calculate the pagerank scores of each node in textgraph\n",
    "5. **Sort vertices based on their final score. Use the values attached to each vertex for ranking/selection decisions.**\n"
   ]
  },
  {
   "cell_type": "code",
   "execution_count": 21,
   "id": "cd055144-53a4-455d-980a-af9d1d7a3efd",
   "metadata": {},
   "outputs": [],
   "source": [
    "\n",
    "def increment_edge (graph, node0, node1):\n",
    "    if graph.has_edge(node0, node1):\n",
    "        graph[node0][node1][\"weight\"] += 1.0\n",
    "    else:\n",
    "        graph.add_edge(node0, node1, weight=1.0)"
   ]
  },
  {
   "cell_type": "code",
   "execution_count": 7,
   "id": "d3264f28-ccc8-4913-a2b8-a665cb602842",
   "metadata": {},
   "outputs": [],
   "source": [
    "def link_sentence(doc, sent, lemma_graph, seen_lemma):\n",
    "    visited_tokens = []\n",
    "    visited_nodes = []\n",
    "\n",
    "    for token in sent:\n",
    "        # token = doc[i]\n",
    "        # filter tokens based on allowed pos tags only\n",
    "        if token.pos_ not in POS_KEPT:\n",
    "            continue\n",
    "        \n",
    "        key = (token.lemma_, token.pos_)\n",
    "\n",
    "        if key not in seen_lemma:\n",
    "            seen_lemma[key] = set([token.i])\n",
    "        else:\n",
    "            seen_lemma[key].add(token.i)\n",
    "\n",
    "        node_id = list(seen_lemma.keys()).index(key)\n",
    "\n",
    "        if not node_id in lemma_graph:\n",
    "            lemma_graph.add_node(node_id)\n",
    "\n",
    "        for prev_token in range(len(visited_tokens) - 1, -1, -1):\n",
    "            \n",
    "            if token.i - visited_tokens[prev_token] <= 3:\n",
    "                print(f\"add edge [{token.lemma_}]<===>[{doc[visited_tokens[prev_token]].lemma_}]\")\n",
    "                increment_edge(lemma_graph, node_id, visited_nodes[prev_token])\n",
    "            else:\n",
    "                break\n",
    "\n",
    "        visited_tokens.append(token.i)\n",
    "        visited_nodes.append(node_id)\n"
   ]
  },
  {
   "cell_type": "code",
   "execution_count": 22,
   "id": "c8232fe6-f2e4-4f67-a006-121aa7ff2114",
   "metadata": {},
   "outputs": [
    {
     "name": "stdout",
     "output_type": "stream",
     "text": [
      "add edge [system]<===>[compatibility]\n",
      "add edge [linear]<===>[system]\n",
      "add edge [constraint]<===>[linear]\n",
      "add edge [constraint]<===>[system]\n",
      "add edge [set]<===>[constraint]\n",
      "add edge [natural]<===>[set]\n",
      "add edge [number]<===>[natural]\n",
      "add edge [number]<===>[set]\n",
      "add edge [compatibility]<===>[criterion]\n",
      "add edge [system]<===>[compatibility]\n",
      "add edge [linear]<===>[system]\n",
      "add edge [Diophantine]<===>[linear]\n",
      "add edge [Diophantine]<===>[system]\n",
      "add edge [equation]<===>[Diophantine]\n",
      "add edge [equation]<===>[linear]\n",
      "add edge [strict]<===>[equation]\n",
      "add edge [strict]<===>[Diophantine]\n",
      "add edge [inequation]<===>[strict]\n",
      "add edge [inequation]<===>[equation]\n",
      "add edge [nonstrict]<===>[inequation]\n",
      "add edge [inequation]<===>[nonstrict]\n",
      "add edge [consider]<===>[inequation]\n",
      "add edge [consider]<===>[nonstrict]\n",
      "add edge [bound]<===>[upper]\n",
      "add edge [component]<===>[bound]\n",
      "add edge [component]<===>[upper]\n",
      "add edge [minimal]<===>[component]\n",
      "add edge [set]<===>[minimal]\n",
      "add edge [solution]<===>[set]\n",
      "add edge [solution]<===>[minimal]\n",
      "add edge [algorithm]<===>[solution]\n",
      "add edge [construction]<===>[algorithm]\n",
      "add edge [minimal]<===>[construction]\n",
      "add edge [generating]<===>[minimal]\n",
      "add edge [generating]<===>[construction]\n",
      "add edge [set]<===>[generating]\n",
      "add edge [set]<===>[minimal]\n",
      "add edge [solution]<===>[set]\n",
      "add edge [solution]<===>[generating]\n",
      "add edge [type]<===>[solution]\n",
      "add edge [system]<===>[type]\n",
      "add edge [give]<===>[system]\n",
      "add edge [corresponding]<===>[criterion]\n",
      "add edge [algorithm]<===>[corresponding]\n",
      "add edge [construct]<===>[algorithm]\n",
      "add edge [construct]<===>[corresponding]\n",
      "add edge [minimal]<===>[construct]\n",
      "add edge [support]<===>[minimal]\n",
      "add edge [support]<===>[construct]\n",
      "add edge [set]<===>[support]\n",
      "add edge [set]<===>[minimal]\n",
      "add edge [solution]<===>[set]\n",
      "add edge [solution]<===>[support]\n",
      "add edge [use]<===>[solution]\n",
      "add edge [solve]<===>[use]\n",
      "add edge [consider]<===>[solve]\n",
      "add edge [type]<===>[consider]\n",
      "add edge [system]<===>[type]\n",
      "add edge [system]<===>[consider]\n",
      "add edge [system]<===>[system]\n",
      "add edge [system]<===>[type]\n",
      "add edge [mixed]<===>[system]\n",
      "add edge [type]<===>[mixed]\n",
      "add edge [type]<===>[system]\n",
      "lemma_graph created with 30 nodes and 54 edges.\n"
     ]
    }
   ],
   "source": [
    "POS_KEPT = [\"ADJ\", \"NOUN\", \"PROPN\", \"VERB\"]\n",
    "\n",
    "lemma_graph = nx.Graph()\n",
    "seen_lemma = {}\n",
    "for sent in doc.sents:\n",
    "    link_sentence(doc, sent, lemma_graph, seen_lemma)\n",
    "\n",
    "\n",
    "print(f\"lemma_graph created with {len(lemma_graph.nodes)} nodes and {len(lemma_graph.edges)} edges.\")\n"
   ]
  },
  {
   "cell_type": "code",
   "execution_count": 23,
   "id": "712adaa8-ad54-463d-bbb8-8c54cb75e08c",
   "metadata": {},
   "outputs": [],
   "source": [
    "id2text = {}\n",
    "keys = list(seen_lemma.keys())\n",
    "\n",
    "for i in range(len(seen_lemma)):\n",
    "    id2text[i] = keys[i][0].lower()"
   ]
  },
  {
   "cell_type": "markdown",
   "id": "5b2f9afa-6920-4e24-80fa-762b07c344a5",
   "metadata": {},
   "source": [
    "## Calculate pagerank"
   ]
  },
  {
   "cell_type": "code",
   "execution_count": 24,
   "id": "4ffcd132-e997-42b5-96fa-94efc25e7b92",
   "metadata": {},
   "outputs": [
    {
     "data": {
      "text/plain": [
       "{'system': 0.097,\n",
       " 'set': 0.075,\n",
       " 'minimal': 0.063,\n",
       " 'solution': 0.062,\n",
       " 'type': 0.048,\n",
       " 'inequation': 0.04,\n",
       " 'consider': 0.039,\n",
       " 'linear': 0.037,\n",
       " 'equation': 0.032,\n",
       " 'component': 0.032,\n",
       " 'algorithm': 0.032,\n",
       " 'construct': 0.032,\n",
       " 'diophantine': 0.031,\n",
       " 'generating': 0.029,\n",
       " 'support': 0.029,\n",
       " 'corresponding': 0.027,\n",
       " 'compatibility': 0.025,\n",
       " 'strict': 0.025,\n",
       " 'nonstrict': 0.025,\n",
       " 'upper': 0.024,\n",
       " 'bound': 0.024,\n",
       " 'construction': 0.024,\n",
       " 'constraint': 0.023,\n",
       " 'criterion': 0.02,\n",
       " 'solve': 0.02,\n",
       " 'natural': 0.019,\n",
       " 'number': 0.019,\n",
       " 'use': 0.019,\n",
       " 'mixed': 0.017,\n",
       " 'give': 0.011}"
      ]
     },
     "execution_count": 24,
     "metadata": {},
     "output_type": "execute_result"
    }
   ],
   "source": [
    "# calculate pagerank\n",
    "lemma_scores = nx.pagerank(lemma_graph)\n",
    "lemma_scores = {node: round(score,3) for node, score in lemma_scores.items()}\n",
    "# print sorted scores\n",
    "{id2text[key]: val for key, val in sorted(lemma_scores.items(), key=lambda x: x[1], reverse=True)}"
   ]
  },
  {
   "cell_type": "code",
   "execution_count": 25,
   "id": "efd73706-00a2-4b61-9be1-2ce5e6556a2b",
   "metadata": {
    "collapsed": false,
    "jupyter": {
     "outputs_hidden": false
    }
   },
   "outputs": [
    {
     "data": {
      "image/png": "[encoded data removed]",
      "text/plain": [
       "<Figure size 900x900 with 1 Axes>"
      ]
     },
     "metadata": {},
     "output_type": "display_data"
    }
   ],
   "source": [
    "# draw graph with size of nodes as per pagerank score\n",
    "fig = plt.figure(figsize=(9, 9))\n",
    "pos = nx.spring_layout(lemma_graph)\n",
    "nx.draw(lemma_graph, pos=pos, with_labels=False, font_weight=\"bold\", node_size=[v * 10000 for v in lemma_scores.values()])\n",
    "node_labels = nx.draw_networkx_labels(lemma_graph, pos, id2text)\n"
   ]
  },
  {
   "cell_type": "markdown",
   "id": "265efe24-9ba0-4acb-8385-409b259e161a",
   "metadata": {},
   "source": [
    "## Keyphrase extraction\n",
    "To calculate phrase rank:\n",
    "1. we take sum of ranks of constituent lemmas.\n",
    "$$\n",
    "rank\\_sum = \\sum_{i=1}^{n} {rank_i}\n",
    "$$\n",
    "2. use root mean square (RMS) to normalize the contributions of all the tokens.  \n",
    "$$\n",
    "    \\text{phrase\\_rank} = \\sqrt{\\frac{rank\\_sum}{\\text{chunk\\_len} + \\text{non\\_lemma}}}\n",
    "$$\n",
    "4. Discount it based on tokens that are not present in lemma graph \n",
    "$$\n",
    "    \\text{non\\_lemma\\_discount} = \\frac{\\text{chunk\\_len}}{\\text{chunk\\_len} + (2.0 * non\\_lemma) + 1.0} \n",
    "$$\n",
    "$$\n",
    "    \\text{phrase\\_rank} = \\text{phrase\\_rank} * \\text{non\\_lemma\\_discount}\n",
    "$$"
   ]
  },
  {
   "cell_type": "code",
   "execution_count": 26,
   "id": "4b685005-eec7-4d44-9e75-937d3b1c3d14",
   "metadata": {},
   "outputs": [],
   "source": [
    "import math\n",
    "\n",
    "ranks = lemma_scores\n",
    "\n",
    "def collect_phrases (chunk, phrases, counts):\n",
    "    chunk_len = chunk.end - chunk.start\n",
    "    sq_sum_rank = 0.0\n",
    "    non_lemma = 0\n",
    "    compound_key = set([])\n",
    "\n",
    "    for token in chunk:\n",
    "        key = (token.lemma_, token.pos_)\n",
    "\n",
    "        if key in seen_lemma:\n",
    "            node_id = list(seen_lemma.keys()).index(key)\n",
    "            rank = ranks[node_id]\n",
    "            sq_sum_rank += rank\n",
    "            compound_key.add(key)\n",
    "        else:\n",
    "            non_lemma += 1\n",
    "\n",
    "    # although the noun chunking is greedy, we discount the ranks using a\n",
    "    # point estimate based on the number of non-lemma tokens within a phrase\n",
    "    non_lemma_discount = chunk_len / (chunk_len + (2.0 * non_lemma) + 1.0)\n",
    "\n",
    "    # use root mean square (RMS) to normalize the contributions of all the tokens\n",
    "    phrase_rank = math.sqrt(sq_sum_rank / (chunk_len + non_lemma))\n",
    "    phrase_rank *= non_lemma_discount\n",
    "\n",
    "    # remove spurious punctuation\n",
    "    phrase = chunk.text.lower().replace(\"'\", \"\")\n",
    "\n",
    "    # create a unique key for the the phrase based on its lemma components\n",
    "    compound_key = tuple(sorted(list(compound_key)))\n",
    "\n",
    "    if not compound_key in phrases:\n",
    "        phrases[compound_key] = set([ (phrase, phrase_rank) ])\n",
    "        counts[compound_key] = 1\n",
    "    else:\n",
    "        phrases[compound_key].add( (phrase, phrase_rank) )\n",
    "        counts[compound_key] += 1\n",
    "\n",
    "    ic(phrase_rank, chunk.text, chunk_len, counts[compound_key])\n"
   ]
  },
  {
   "cell_type": "code",
   "execution_count": 27,
   "id": "6d232d1a-9148-41e0-b22f-74ae86e9865f",
   "metadata": {},
   "outputs": [
    {
     "name": "stderr",
     "output_type": "stream",
     "text": [
      "ic| phrase_rank: 0.07905694150420949\n",
      "    chunk.text: 'Compatibility'\n",
      "    chunk_len: 1\n",
      "    counts[compound_key]: 1\n",
      "ic| phrase_rank: 0.15572411502397437\n",
      "    chunk.text: 'systems'\n",
      "    chunk_len: 1\n",
      "    counts[compound_key]: 1\n",
      "ic| phrase_rank: 0.11547005383792515\n",
      "    chunk.text: 'linear constraints'\n",
      "    chunk_len: 2\n",
      "    counts[compound_key]: 1\n",
      "ic| phrase_rank: 0.0632455532033676\n",
      "    chunk.text: 'the set'\n",
      "    chunk_len: 2\n",
      "    counts[compound_key]: 1\n",
      "ic| phrase_rank: 0.09189365834726815\n",
      "    chunk.text: 'natural numbers'\n",
      "    chunk_len: 2\n",
      "    counts[compound_key]: 1\n",
      "ic| phrase_rank: 0.07071067811865475\n",
      "    chunk.text: 'Criteria'\n",
      "    chunk_len: 1\n",
      "    counts[compound_key]: 1\n",
      "ic| phrase_rank: 0.07905694150420949\n",
      "    chunk.text: 'compatibility'\n",
      "    chunk_len: 1\n",
      "    counts[compound_key]: 2\n",
      "ic| phrase_rank: 0.07192588778272628\n",
      "    chunk.text: 'a system'\n",
      "    chunk_len: 2\n",
      "    counts[compound_key]: 2\n",
      "ic| phrase_rank: 0.13693063937629152\n",
      "    chunk.text: 'linear Diophantine equations'\n",
      "    chunk_len: 3\n",
      "    counts[compound_key]: 1\n",
      "ic| phrase_rank: 0.12018504251546631\n",
      "    chunk.text: 'strict inequations'\n",
      "    chunk_len: 2\n",
      "    counts[compound_key]: 1\n",
      "ic| phrase_rank: 0.12018504251546631\n",
      "    chunk.text: 'nonstrict inequations'\n",
      "    chunk_len: 2\n",
      "    counts[compound_key]: 1\n",
      "ic| phrase_rank: 0.08944271909999159\n",
      "    chunk.text: 'components'\n",
      "    chunk_len: 1\n",
      "    counts[compound_key]: 1\n",
      "ic| phrase_rank: 0.09287087810503356\n",
      "    chunk.text: 'a minimal set'\n",
      "    chunk_len: 3\n",
      "    counts[compound_key]: 1\n",
      "ic| phrase_rank: 0.12449899597988733\n",
      "    chunk.text: 'solutions'\n",
      "    chunk_len: 1\n",
      "    counts[compound_key]: 1\n",
      "ic| phrase_rank: 0.08944271909999159\n",
      "    chunk.text: 'algorithms'\n",
      "    chunk_len: 1\n",
      "    counts[compound_key]: 1\n",
      "ic| phrase_rank: 0.07745966692414834\n",
      "    chunk.text: 'construction'\n",
      "    chunk_len: 1\n",
      "    counts[compound_key]: 1\n",
      "ic| phrase_rank: 0.1769533836918639\n",
      "    chunk.text: 'minimal generating sets'\n",
      "    chunk_len: 3\n",
      "    counts[compound_key]: 1\n",
      "ic| phrase_rank: 0.12449899597988733\n",
      "    chunk.text: 'solutions'\n",
      "    chunk_len: 1\n",
      "    counts[compound_key]: 2\n",
      "ic| phrase_rank: 0.05059644256269407\n",
      "    chunk.text: 'all types'\n",
      "    chunk_len: 2\n",
      "    counts[compound_key]: 1\n",
      "ic| phrase_rank: 0.15572411502397437\n",
      "    chunk.text: 'systems'\n",
      "    chunk_len: 1\n",
      "    counts[compound_key]: 3\n",
      "ic| phrase_rank: 0.032659863237109045\n",
      "    chunk.text: 'These criteria'\n",
      "    chunk_len: 2\n",
      "    counts[compound_key]: 2\n",
      "ic| phrase_rank: 0.06072478900745559\n",
      "    chunk.text: 'the corresponding algorithms'\n",
      "    chunk_len: 3\n",
      "    counts[compound_key]: 1\n",
      "ic| phrase_rank: 0.10443238218569752\n",
      "    chunk.text: 'a minimal supporting set'\n",
      "    chunk_len: 4\n",
      "    counts[compound_key]: 1\n",
      "ic| phrase_rank: 0.12449899597988733\n",
      "    chunk.text: 'solutions'\n",
      "    chunk_len: 1\n",
      "    counts[compound_key]: 3\n",
      "ic| phrase_rank: 0.08106434833777776\n",
      "    chunk.text: 'all the considered types systems'\n",
      "    chunk_len: 5\n",
      "    counts[compound_key]: 1\n",
      "ic| phrase_rank: 0.15572411502397437\n",
      "    chunk.text: 'systems'\n",
      "    chunk_len: 1\n",
      "    counts[compound_key]: 4\n",
      "ic| phrase_rank: 0.12018504251546631\n",
      "    chunk.text: 'mixed types'\n",
      "    chunk_len: 2\n",
      "    counts[compound_key]: 1\n"
     ]
    }
   ],
   "source": [
    "phrases = {}\n",
    "counts = {}\n",
    "\n",
    "for chunk in doc.noun_chunks:\n",
    "    collect_phrases(chunk, phrases, counts)\n"
   ]
  },
  {
   "cell_type": "markdown",
   "id": "533bd68e-c72c-4b32-84f1-7e6a521677c4",
   "metadata": {},
   "source": [
    "## Variants of textrank"
   ]
  },
  {
   "cell_type": "markdown",
   "id": "fd29b0f2-25f0-49ce-830a-4918c017c62a",
   "metadata": {},
   "source": [
    "### Base pytextrank"
   ]
  },
  {
   "cell_type": "code",
   "execution_count": 28,
   "id": "16c29801-b95b-4946-8503-5652fb47abd9",
   "metadata": {},
   "outputs": [
    {
     "name": "stdout",
     "output_type": "stream",
     "text": [
      "minimal generating sets\n",
      "0.17883828024583154 1\n",
      "[minimal generating sets]\n",
      "linear Diophantine equations\n",
      "0.14015779770966044 1\n",
      "[linear Diophantine equations]\n",
      "systems\n",
      "0.14013985092698114 3\n",
      "[systems, systems, systems]\n",
      "linear constraints\n",
      "0.13067254265906908 1\n",
      "[linear constraints]\n",
      "solutions\n",
      "0.12438844296057915 3\n",
      "[solutions, solutions, solutions]\n",
      "strict inequations\n",
      "0.1211664859928741 1\n",
      "[strict inequations]\n",
      "mixed types\n",
      "0.11428706937912782 1\n",
      "[mixed types]\n",
      "nonstrict inequations\n",
      "0.11335859909814999 1\n",
      "[nonstrict inequations]\n",
      "linear\n",
      "0.10947214006758256 1\n",
      "[linear]\n",
      "a minimal supporting set\n",
      "0.10560436051518673 1\n",
      "[a minimal supporting set]\n"
     ]
    }
   ],
   "source": [
    "import spacy\n",
    "import pytextrank\n",
    "\n",
    "# example text\n",
    "text = \"Compatibility of systems of linear constraints over the set of natural numbers. Criteria of compatibility of a system of linear Diophantine equations, strict inequations, and nonstrict inequations are considered. Upper bounds for components of a minimal set of solutions and algorithms of construction of minimal generating sets of solutions for all types of systems are given. These criteria and the corresponding algorithms for constructing a minimal supporting set of solutions can be used in solving all the considered types systems and systems of mixed types.\"\n",
    "\n",
    "# load a spaCy model, depending on language, scale, etc.\n",
    "nlp = spacy.load(\"en_core_web_sm\")\n",
    "\n",
    "# add PyTextRank to the spaCy pipeline\n",
    "nlp.add_pipe(\"textrank\")\n",
    "doc = nlp(text)\n",
    "\n",
    "# examine the top-ranked phrases in the document\n",
    "for phrase in doc._.phrases[:10]:\n",
    "    print(phrase.text)\n",
    "    print(phrase.rank, phrase.count)\n",
    "    print(phrase.chunks)\n"
   ]
  },
  {
   "cell_type": "markdown",
   "id": "29f1eb8f-a230-4325-81f0-63af9ad823ef",
   "metadata": {},
   "source": [
    "### Biased textrank\n",
    "is a graph-based content extraction method inspired by the popular TextRank algorithm that ranks text spans according to their importance for language processing tasks and according to their relevance to an input 'focus'. Biased TextRank enables focused content extraction for text by modifying the random restarts in the execution of TextRank.\n",
    "\n",
    "References: [kazemi-etal-2020-biased](https://derwen.ai/docs/ptr/biblio/#kazemi-etal-2020-biased)"
   ]
  },
  {
   "cell_type": "code",
   "execution_count": 15,
   "id": "c5c32cdc-bcec-4b0f-a1ad-87a8daddf144",
   "metadata": {},
   "outputs": [
    {
     "name": "stderr",
     "output_type": "stream",
     "text": [
      "ic| phrase: Phrase(text='Leicester',\n",
      "                   chunks=[Leicester, Leicester],\n",
      "                   count=2,\n",
      "                   rank=0.2434939744809635)\n",
      "ic| phrase: Phrase(text='Saturday',\n",
      "                   chunks=[Saturday, Saturday],\n",
      "                   count=2,\n",
      "                   rank=0.17975133976641308)\n",
      "ic| phrase: Phrase(text='the last 13 Premier League matches',\n",
      "                   chunks=[the last 13 Premier League matches],\n",
      "                   count=1,\n",
      "                   rank=0.09945686053992162)\n",
      "ic| phrase: Phrase(text='Their draw', chunks=[Their draw], count=1, rank=0.0703202174184535)\n",
      "ic| phrase: Phrase(text='Salomon Rondón',\n",
      "                   chunks=[Salomon Rondón, Salomon Rondón],\n",
      "                   count=2,\n",
      "                   rank=0.0015734433251935586)\n",
      "ic| phrase: Phrase(text='Salomón Rondón',\n",
      "                   chunks=[Salomón Rondón, Salomón Rondón],\n",
      "                   count=2,\n",
      "                   rank=0.0015734433251935586)\n",
      "ic| phrase: Phrase(text='Rondón', chunks=[Rondón], count=1, rank=0.0014349406711104446)\n",
      "ic| phrase: Phrase(text='deadline day',\n",
      "                   chunks=[deadline day, deadline day],\n",
      "                   count=2,\n",
      "                   rank=0.0014285042654378394)\n",
      "ic| phrase: Phrase(text='Shanghai Shenhua striker Odion Ighalo',\n",
      "                   chunks=[Shanghai Shenhua striker Odion Ighalo,\n",
      "                           Shanghai Shenhua striker Odion Ighalo],\n",
      "                   count=2,\n",
      "                   rank=0.0014265842305925974)\n",
      "ic| phrase: Phrase(text='Chelsea',\n",
      "                   chunks=[Chelsea, Chelsea, Chelsea, Chelsea, Chelsea],\n",
      "                   count=5,\n",
      "                   rank=0.0012078499161887314)\n"
     ]
    }
   ],
   "source": [
    "nlp = spacy.load(\"en_core_web_sm\")\n",
    "nlp.add_pipe(\"biasedtextrank\");\n",
    "\n",
    "text = \"\"\"Chelsea 'opted against' signing Salomon Rondón on deadline day.\n",
    "Chelsea reportedly opted against signing Salomón Rondón on deadline day despite their long search for a new centre forward. With Olivier Giroud expected to leave, the Blues targeted Edinson Cavani, Dries Mertens and Moussa Dembele – only to end up with none of them. According to Telegraph Sport, Dalian Yifang offered Rondón to Chelsea only for them to prefer keeping Giroud at the club. Manchester United were also linked with the Venezuela international before agreeing a deal for Shanghai Shenhua striker Odion Ighalo. Manager Frank Lampard made no secret of his transfer window frustration, hinting that to secure top four football he ‘needed’ signings. Their draw against Leicester on Saturday means they have won just four of the last 13 Premier League matches.\n",
    "\"\"\"\n",
    "\n",
    "doc = nlp(text)\n",
    "\n",
    "focus = \"Leicester\"\n",
    "doc._.textrank.change_focus(focus,bias=10.0,  default_bias=0.0)\n",
    "\n",
    "for phrase in doc._.phrases[:10]:\n",
    "    ic(phrase)\n"
   ]
  },
  {
   "cell_type": "markdown",
   "id": "2b3112ec-c946-4bca-8bb6-eb7d78c5b0ee",
   "metadata": {},
   "source": [
    "### PositionRank \n",
    "is an unsupervised model for keyphrase extraction from scholarly documents that incorporates information from all positions of a word’s occurrences into a biased PageRank.\n",
    "Specifically, we propose to assign a higher probability to a word found on the 2nd position as compared with a word found on the 50th position in the same document.\n",
    "The weight of each candidate word is equal to its inverse position in the document. If the same word appears multiple times in the target document, then we sum all its position weights."
   ]
  },
  {
   "cell_type": "code",
   "execution_count": 29,
   "id": "96106c59-3937-4b09-8405-17f7af27c9dd",
   "metadata": {},
   "outputs": [
    {
     "name": "stderr",
     "output_type": "stream",
     "text": [
      "ic| phrase: Phrase(text='systems',\n",
      "                   chunks=[systems, systems, systems],\n",
      "                   count=3,\n",
      "                   rank=0.16642586280288038)\n",
      "ic| phrase: Phrase(text='minimal generating sets',\n",
      "                   chunks=[minimal generating sets],\n",
      "                   count=1,\n",
      "                   rank=0.16393128373491028)\n",
      "ic| phrase: Phrase(text='linear constraints',\n",
      "                   chunks=[linear constraints],\n",
      "                   count=1,\n",
      "                   rank=0.16191704494138187)\n",
      "ic| phrase: Phrase(text='linear Diophantine equations',\n",
      "                   chunks=[linear Diophantine equations],\n",
      "                   count=1,\n",
      "                   rank=0.16185891278233844)\n",
      "ic| phrase: Phrase(text='linear', chunks=[linear], count=1, rank=0.13711769105865249)\n",
      "ic| phrase: Phrase(text='Compatibility',\n",
      "                   chunks=[Compatibility],\n",
      "                   count=1,\n",
      "                   rank=0.1364563727283554)\n",
      "ic| phrase: Phrase(text='compatibility',\n",
      "                   chunks=[compatibility],\n",
      "                   count=1,\n",
      "                   rank=0.1364563727283554)\n",
      "ic| phrase: Phrase(text='strict inequations',\n",
      "                   chunks=[strict inequations],\n",
      "                   count=1,\n",
      "                   rank=0.11959818975436659)\n",
      "ic| phrase: Phrase(text='solutions',\n",
      "                   chunks=[solutions, solutions, solutions],\n",
      "                   count=3,\n",
      "                   rank=0.11205991298195021)\n",
      "ic| phrase: Phrase(text='nonstrict inequations',\n",
      "                   chunks=[nonstrict inequations],\n",
      "                   count=1,\n",
      "                   rank=0.10877741919859063)\n"
     ]
    }
   ],
   "source": [
    "nlp = spacy.load(\"en_core_web_sm\")\n",
    "nlp.add_pipe(\"positionrank\");\n",
    "text = \"Compatibility of systems of linear constraints over the set of natural numbers. Criteria of compatibility of a system of linear Diophantine equations, strict inequations, and nonstrict inequations are considered. Upper bounds for components of a minimal set of solutions and algorithms of construction of minimal generating sets of solutions for all types of systems are given. These criteria and the corresponding algorithms for constructing a minimal supporting set of solutions can be used in solving all the considered types systems and systems of mixed types.\"\n",
    "doc = nlp(text)\n",
    "\n",
    "for phrase in doc._.phrases[:10]:\n",
    "    ic(phrase) "
   ]
  },
  {
   "cell_type": "markdown",
   "id": "1bc239da-d204-4269-80aa-bb3ca01cbe64",
   "metadata": {},
   "source": [
    "### TopicRank\n",
    "is a graph-based keyphrase extraction method that relies on a topical representation of the document. Candidate keyphrases are clustered into topics and used as vertices in a complete graph. A graph-based ranking model is applied to assign a significance score to each topic. Keyphrases are then generated by selecting a candidate from each of the topranked topics.\n",
    "\n",
    "Reference: [bougouin-etal-2013-topicrank](https://derwen.ai/docs/ptr/biblio/#bougouin-etal-2013-topicrank)"
   ]
  },
  {
   "cell_type": "code",
   "execution_count": 17,
   "id": "b6178a76-f592-4fc4-b1d1-5686dd3037e4",
   "metadata": {},
   "outputs": [
    {
     "name": "stderr",
     "output_type": "stream",
     "text": [
      "ic| phrase.text: 'Salomon Rondón'\n",
      "ic| phrase.text: 'Chelsea'\n",
      "ic| phrase.text: 'Olivier Giroud'\n",
      "ic| phrase.text: 'deadline day'\n",
      "ic| phrase.text: 'Leicester'\n",
      "ic| phrase.text: 'club'\n",
      "ic| phrase.text: 'Edinson Cavani'\n",
      "ic| phrase.text: 'draw'\n",
      "ic| phrase.text: 'Manchester United'\n",
      "ic| phrase.text: 'Dalian Yifang'\n"
     ]
    }
   ],
   "source": [
    "nlp = spacy.load(\"en_core_web_sm\")\n",
    "nlp.add_pipe(\"topicrank\");\n",
    "\n",
    "text = \"\"\"Chelsea 'opted against' signing Salomon Rondón on deadline day.\n",
    "Chelsea reportedly opted against signing Salomón Rondón on deadline day despite their long search for a new centre forward. With Olivier Giroud expected to leave, the Blues targeted Edinson Cavani, Dries Mertens and Moussa Dembele – only to end up with none of them. According to Telegraph Sport, Dalian Yifang offered Rondón to Chelsea only for them to prefer keeping Giroud at the club. Manchester United were also linked with the Venezuela international before agreeing a deal for Shanghai Shenhua striker Odion Ighalo. Manager Frank Lampard made no secret of his transfer window frustration, hinting that to secure top four football he ‘needed’ signings. Their draw against Leicester on Saturday means they have won just four of the last 13 Premier League matches.\n",
    "\"\"\"\n",
    "doc = nlp(text)\n",
    "\n",
    "for phrase in doc._.phrases[:10]:\n",
    "    ic(phrase.text)\n"
   ]
  },
  {
   "cell_type": "markdown",
   "id": "f1d26fe6-ed24-4750-99be-c9c552524963",
   "metadata": {},
   "source": [
    "# References\n",
    "1. [Spacy-101](https://spacy.io/usage/spacy-101)\n",
    "2. [TextRank: Bringing Order into Texts](https://web.eecs.umich.edu/~mihalcea/papers/mihalcea.emnlp04.pdf)\n",
    "3. [pytextrank- github](https://github.com/DerwenAI/pytextrank)\n",
    "4. [pytextrank - tutorial](https://derwen.ai/docs/ptr/explain_algo/)\n",
    "5. [PyTextRank: A Python Implementation of NLP Text Rank Algorithm by Paco Nathan](https://www.youtube.com/watch?v=ZwlPsdRDtMI)"
   ]
  }
 ],
 "metadata": {
  "kernelspec": {
   "display_name": "Python 3 (ipykernel)",
   "language": "python",
   "name": "python3"
  },
  "language_info": {
   "codemirror_mode": {
    "name": "ipython",
    "version": 3
   },
   "file_extension": ".py",
   "mimetype": "text/x-python",
   "name": "python",
   "nbconvert_exporter": "python",
   "pygments_lexer": "ipython3",
   "version": "3.11.3"
  }
 },
 "nbformat": 4,
 "nbformat_minor": 5
}
